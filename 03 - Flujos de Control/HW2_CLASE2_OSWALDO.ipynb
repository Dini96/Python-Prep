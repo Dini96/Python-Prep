{
 "cells": [
  {
   "attachments": {},
   "cell_type": "markdown",
   "metadata": {},
   "source": [
    "1) Crear una variable que contenga un elemento del conjunto de números enteros y luego imprimir por pantalla si es mayor o menor a cero\n"
   ]
  },
  {
   "cell_type": "code",
   "execution_count": 4,
   "metadata": {},
   "outputs": [
    {
     "name": "stdout",
     "output_type": "stream",
     "text": [
      "la variable es mayor que 0\n"
     ]
    }
   ],
   "source": [
    "a1=5\n",
    "if (a1>0):\n",
    "    print(\"la variable es mayor que 0\")\n",
    "else:\n",
    "    print(\"la variable es menor que cero\")\n",
    "    \n"
   ]
  },
  {
   "attachments": {},
   "cell_type": "markdown",
   "metadata": {},
   "source": [
    "2) Crear dos variables y un condicional que informe si son del mismo tipo de dato\n"
   ]
  },
  {
   "cell_type": "code",
   "execution_count": 5,
   "metadata": {},
   "outputs": [
    {
     "name": "stdout",
     "output_type": "stream",
     "text": [
      "las variables no son del mismo tipo de dato\n"
     ]
    }
   ],
   "source": [
    "a2=\"2\"\n",
    "b2=2\n",
    "if (a2==b2):\n",
    "    print(\"Las dos variables son del mismo tipo de dato\")\n",
    "else:\n",
    "    print(\"las variables no son del mismo tipo de dato\")"
   ]
  },
  {
   "attachments": {},
   "cell_type": "markdown",
   "metadata": {},
   "source": [
    "3) Para los valores enteros del 1 al 20, imprimir por pantalla si es par o impar\n"
   ]
  },
  {
   "cell_type": "code",
   "execution_count": 9,
   "metadata": {},
   "outputs": [
    {
     "name": "stdout",
     "output_type": "stream",
     "text": [
      "El numero 1 es un numero impar\n",
      "El numero 2 es par\n",
      "El numero 3 es un numero impar\n",
      "El numero 4 es par\n",
      "El numero 5 es un numero impar\n",
      "El numero 6 es par\n",
      "El numero 7 es un numero impar\n",
      "El numero 8 es par\n",
      "El numero 9 es un numero impar\n",
      "El numero 10 es par\n",
      "El numero 11 es un numero impar\n",
      "El numero 12 es par\n",
      "El numero 13 es un numero impar\n",
      "El numero 14 es par\n",
      "El numero 15 es un numero impar\n",
      "El numero 16 es par\n",
      "El numero 17 es un numero impar\n",
      "El numero 18 es par\n",
      "El numero 19 es un numero impar\n",
      "El numero 20 es par\n"
     ]
    }
   ],
   "source": [
    "for i in range(1,21):\n",
    "    if(i%2!=0):\n",
    "        print(\"El numero \"+str(i)+\" es un numero impar\")\n",
    "    else:\n",
    "        print(\"El numero \"+str(i)+\" es par\")"
   ]
  },
  {
   "attachments": {},
   "cell_type": "markdown",
   "metadata": {},
   "source": [
    "4) En un ciclo for mostrar para los valores entre 0 y 5 el resultado de elevarlo a la potencia igual a 3\n"
   ]
  },
  {
   "cell_type": "code",
   "execution_count": 14,
   "metadata": {},
   "outputs": [
    {
     "name": "stdout",
     "output_type": "stream",
     "text": [
      "El número 0 elevado a la tercera potencia es 0\n",
      "El número 1 elevado a la tercera potencia es 1\n",
      "El número 2 elevado a la tercera potencia es 8\n",
      "El número 3 elevado a la tercera potencia es 27\n",
      "El número 4 elevado a la tercera potencia es 64\n",
      "El número 5 elevado a la tercera potencia es 125\n"
     ]
    }
   ],
   "source": [
    "for i in range(0,6):\n",
    "    print(\"El número \"+str(i)+\" elevado a la tercera potencia es \"+str(i**3))"
   ]
  },
  {
   "attachments": {},
   "cell_type": "markdown",
   "metadata": {},
   "source": [
    "5) Crear una variable que contenga un número entero y realizar un ciclo for la misma cantidad de ciclos\n"
   ]
  },
  {
   "cell_type": "code",
   "execution_count": 17,
   "metadata": {},
   "outputs": [
    {
     "name": "stdout",
     "output_type": "stream",
     "text": [
      "Faltan 10 unidades para llegar a 10\n",
      "Faltan 9 unidades para llegar a 10\n",
      "Faltan 8 unidades para llegar a 10\n",
      "Faltan 7 unidades para llegar a 10\n",
      "Faltan 6 unidades para llegar a 10\n",
      "Faltan 5 unidades para llegar a 10\n",
      "Faltan 4 unidades para llegar a 10\n",
      "Faltan 3 unidades para llegar a 10\n",
      "Faltan 2 unidades para llegar a 10\n",
      "Faltan 1 unidades para llegar a 10\n"
     ]
    }
   ],
   "source": [
    "a5=10\n",
    "for i in range(a5):\n",
    "    print(\"Faltan \"+str(a5-i)+\" unidades para llegar a \"+str(a5))"
   ]
  },
  {
   "attachments": {},
   "cell_type": "markdown",
   "metadata": {},
   "source": [
    "6) Utilizar un ciclo while para realizar el factorial de un número guardado en una variable, sólo si la variable contiene un número entero mayor a 0\n"
   ]
  },
  {
   "cell_type": "code",
   "execution_count": 23,
   "metadata": {},
   "outputs": [
    {
     "name": "stdout",
     "output_type": "stream",
     "text": [
      "5\n",
      "20\n",
      "60\n",
      "120\n"
     ]
    }
   ],
   "source": [
    "a6=5\n",
    "fact=1\n",
    "while 1<a6:\n",
    "    fact=fact*a6\n",
    "    print(fact)\n",
    "    a6=a6-1\n",
    "        "
   ]
  },
  {
   "attachments": {},
   "cell_type": "markdown",
   "metadata": {},
   "source": [
    "7) Crear un ciclo for dentro de un ciclo while"
   ]
  },
  {
   "cell_type": "code",
   "execution_count": 2,
   "metadata": {},
   "outputs": [
    {
     "name": "stdout",
     "output_type": "stream",
     "text": [
      "hola hola hola hola hola hola hola hola hola hola \n",
      "hola hola hola hola hola hola hola hola hola \n",
      "hola hola hola hola hola hola hola hola \n",
      "hola hola hola hola hola hola hola \n",
      "hola hola hola hola hola hola \n",
      "hola hola hola hola hola \n",
      "hola hola hola hola \n",
      "hola hola hola \n",
      "hola hola \n",
      "hola \n",
      "hola hola hola hola hola hola hola hola hola \n",
      "hola hola hola hola hola hola hola hola \n",
      "hola hola hola hola hola hola hola \n",
      "hola hola hola hola hola hola \n",
      "hola hola hola hola hola \n",
      "hola hola hola hola \n",
      "hola hola hola \n",
      "hola hola \n",
      "hola \n",
      "hola hola hola hola hola hola hola hola \n",
      "hola hola hola hola hola hola hola \n",
      "hola hola hola hola hola hola \n",
      "hola hola hola hola hola \n",
      "hola hola hola hola \n",
      "hola hola hola \n",
      "hola hola \n",
      "hola \n",
      "hola hola hola hola hola hola hola \n",
      "hola hola hola hola hola hola \n",
      "hola hola hola hola hola \n",
      "hola hola hola hola \n",
      "hola hola hola \n",
      "hola hola \n",
      "hola \n",
      "hola hola hola hola hola hola \n",
      "hola hola hola hola hola \n",
      "hola hola hola hola \n",
      "hola hola hola \n",
      "hola hola \n",
      "hola \n",
      "hola hola hola hola hola \n",
      "hola hola hola hola \n",
      "hola hola hola \n",
      "hola hola \n",
      "hola \n",
      "hola hola hola hola \n",
      "hola hola hola \n",
      "hola hola \n",
      "hola \n",
      "hola hola hola \n",
      "hola hola \n",
      "hola \n",
      "hola hola \n",
      "hola \n",
      "hola \n"
     ]
    }
   ],
   "source": [
    "i=10\n",
    "while i>0:\n",
    "    j=i\n",
    "    for n in range(j):\n",
    "        print(\"hola \"*j)\n",
    "        j=j-1\n",
    "    i=i-1"
   ]
  },
  {
   "attachments": {},
   "cell_type": "markdown",
   "metadata": {},
   "source": [
    "8) Crear un ciclo while dentro de un ciclo for"
   ]
  },
  {
   "cell_type": "code",
   "execution_count": 5,
   "metadata": {},
   "outputs": [
    {
     "name": "stdout",
     "output_type": "stream",
     "text": [
      "1\n",
      "2\n",
      "3\n",
      "4\n",
      "5\n",
      "6\n",
      "7\n",
      "8\n",
      "9\n"
     ]
    }
   ],
   "source": [
    "m=0\n",
    "for h in range(10):\n",
    "    while m<h:\n",
    "        m=m+1\n",
    "        print(m)"
   ]
  },
  {
   "attachments": {},
   "cell_type": "markdown",
   "metadata": {},
   "source": [
    "9) Imprimir los números primos existentes entre 0 y 30"
   ]
  },
  {
   "cell_type": "code",
   "execution_count": 64,
   "metadata": {},
   "outputs": [
    {
     "name": "stdout",
     "output_type": "stream",
     "text": [
      "1 es primo\n",
      "2 es primo\n",
      "3 es primo\n",
      "5 es primo\n",
      "7 es primo\n",
      "11 es primo\n",
      "13 es primo\n",
      "17 es primo\n",
      "19 es primo\n",
      "23 es primo\n",
      "29 es primo\n"
     ]
    }
   ],
   "source": [
    "\n",
    "\n",
    "for y in range(1,31):\n",
    "    numero_eva=y\n",
    "    primo=True\n",
    "    divisor=2\n",
    "    while divisor<numero_eva:\n",
    "        if numero_eva%divisor==0:\n",
    "            primo=False\n",
    "            break\n",
    "        else:\n",
    "            divisor=divisor+1\n",
    "    if primo==True:\n",
    "        print(str(numero_eva)+\" es primo\")"
   ]
  },
  {
   "attachments": {},
   "cell_type": "markdown",
   "metadata": {},
   "source": [
    "10) ¿Se puede mejorar el proceso del punto 9? Utilizar las sentencias break y/ó continue para tal fin\n"
   ]
  },
  {
   "cell_type": "code",
   "execution_count": 45,
   "metadata": {},
   "outputs": [
    {
     "data": {
      "text/plain": [
       "0"
      ]
     },
     "execution_count": 45,
     "metadata": {},
     "output_type": "execute_result"
    }
   ],
   "source": [
    "#Si"
   ]
  },
  {
   "attachments": {},
   "cell_type": "markdown",
   "metadata": {},
   "source": [
    "11) En los puntos 9 y 10, se diseño un código que encuentra números primos y además se lo optimizó. ¿Es posible saber en qué medida se optimizó?"
   ]
  },
  {
   "attachments": {},
   "cell_type": "markdown",
   "metadata": {},
   "source": [
    "se ahorro tiempo en estar revisando uno por uno cada numero, reduciendo las veces que se tienen que iterar ahorrando tiempo."
   ]
  },
  {
   "attachments": {},
   "cell_type": "markdown",
   "metadata": {},
   "source": [
    "12) Si la cantidad de números que se evalúa es mayor a treinta, esa optimización crece?"
   ]
  },
  {
   "attachments": {},
   "cell_type": "markdown",
   "metadata": {},
   "source": [
    "Así es ya que se ahorraria aun mas tiempo al probar muchos mas números"
   ]
  },
  {
   "attachments": {},
   "cell_type": "markdown",
   "metadata": {},
   "source": [
    "13) Aplicando continue, armar un ciclo while que solo imprima los valores divisibles por 12, dentro del rango de números de 100 a 300"
   ]
  },
  {
   "cell_type": "code",
   "execution_count": 69,
   "metadata": {},
   "outputs": [
    {
     "name": "stdout",
     "output_type": "stream",
     "text": [
      "108\n",
      "120\n",
      "132\n",
      "144\n",
      "156\n",
      "168\n",
      "180\n",
      "192\n",
      "204\n",
      "216\n",
      "228\n",
      "240\n",
      "252\n",
      "264\n",
      "276\n",
      "288\n",
      "300\n"
     ]
    }
   ],
   "source": [
    "x=100\n",
    "while x<=300:\n",
    "    if x%12==0:\n",
    "        print(x)\n",
    "        x+=1\n",
    "    else:\n",
    "        x+=1"
   ]
  },
  {
   "attachments": {},
   "cell_type": "markdown",
   "metadata": {},
   "source": [
    "14) Utilizar la función **input()** que permite hacer ingresos por teclado, para encontrar números primos y dar la opción al usario de buscar el siguiente"
   ]
  },
  {
   "cell_type": "code",
   "execution_count": 83,
   "metadata": {},
   "outputs": [
    {
     "name": "stdout",
     "output_type": "stream",
     "text": [
      "Que numero quieres probar, de lo contrario escribe no\n",
      "El número 101 es primo\n",
      "Que numero quieres probar, de lo contrario escribe no\n",
      "El número 45 no es primo\n",
      "Que numero quieres probar, de lo contrario escribe no\n",
      "El número 44 no es primo\n",
      "Que numero quieres probar, de lo contrario escribe no\n",
      "El número 43 es primo\n",
      "Que numero quieres probar, de lo contrario escribe no\n"
     ]
    }
   ],
   "source": [
    "pregunta=\"Ok\"\n",
    "while pregunta==\"Ok\":  \n",
    "    \n",
    "    print(\"Que numero quieres probar, de lo contrario escribe no\")\n",
    "    respuesta=input()\n",
    "    if respuesta==\"no\":\n",
    "        break\n",
    "    else:\n",
    "        evaluar=int(respuesta)\n",
    "        primo=True\n",
    "        divisor=2\n",
    "        while divisor<evaluar:\n",
    "            if evaluar%divisor==0:\n",
    "                primo=False\n",
    "                break\n",
    "            else:\n",
    "                divisor+=1\n",
    "        if primo==True:\n",
    "            print(\"El número \"+str(evaluar)+\" es primo\")\n",
    "        else:\n",
    "            print(\"El número \"+str(evaluar)+\" no es primo\")\n",
    "\n"
   ]
  },
  {
   "attachments": {},
   "cell_type": "markdown",
   "metadata": {},
   "source": [
    "15) Crear un ciclo while que encuentre dentro del rango de 100 a 300 el primer número divisible por 3 y además múltiplo de 6\n"
   ]
  },
  {
   "cell_type": "code",
   "execution_count": 86,
   "metadata": {},
   "outputs": [
    {
     "name": "stdout",
     "output_type": "stream",
     "text": [
      "102\n"
     ]
    }
   ],
   "source": [
    "x=100\n",
    "while x<300:\n",
    "    if x%3==0:\n",
    "        if x%6==0:\n",
    "            print(x)\n",
    "            break\n",
    "        else:\n",
    "            x+=1\n",
    "            print(x)\n",
    "    else:\n",
    "        x+=1"
   ]
  },
  {
   "cell_type": "code",
   "execution_count": null,
   "metadata": {},
   "outputs": [],
   "source": []
  }
 ],
 "metadata": {
  "kernelspec": {
   "display_name": "Python 3",
   "language": "python",
   "name": "python3"
  },
  "language_info": {
   "codemirror_mode": {
    "name": "ipython",
    "version": 3
   },
   "file_extension": ".py",
   "mimetype": "text/x-python",
   "name": "python",
   "nbconvert_exporter": "python",
   "pygments_lexer": "ipython3",
   "version": "3.11.1"
  },
  "orig_nbformat": 4,
  "vscode": {
   "interpreter": {
    "hash": "20e0a4ada57108d96d995f807abad80084ba4093636272b3ea276dc5419eb6eb"
   }
  }
 },
 "nbformat": 4,
 "nbformat_minor": 2
}
